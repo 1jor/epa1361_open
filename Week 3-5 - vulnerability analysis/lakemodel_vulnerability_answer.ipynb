{
 "cells": [
  {
   "cell_type": "markdown",
   "metadata": {},
   "source": [
    "# Lake model continued\n",
    "\n",
    "In the previous week you used the lake problem as a means of getting aquinted with the workbench. In this assignment we will continue with the lake problem, focussing explicitly on using it for open exploration. You can use the second part of [this tutoria](https://waterprogramming.wordpress.com/2017/11/19/open-exploration-with-the-exploratory-modelling-workbench/) for help.\n",
    "\n",
    "## Apply scenario discovery\n",
    "\n",
    "1. Generate 10 policies and 1000 scenarios and evaluate them."
   ]
  },
  {
   "cell_type": "code",
   "execution_count": 1,
   "metadata": {},
   "outputs": [],
   "source": [
    "from lakemodel_function import lake_problem\n",
    "\n",
    "from ema_workbench import (Model, RealParameter, ScalarOutcome, Constant)\n",
    "\n",
    "#instantiate the model\n",
    "lake_model = Model('lakeproblem', function=lake_problem)\n",
    "lake_model.time_horizon = 100 # used to specify the number of timesteps\n",
    "\n",
    "#specify uncertainties\n",
    "lake_model.uncertainties = [RealParameter('mean', 0.01, 0.05),\n",
    "                            RealParameter('stdev', 0.001, 0.005),\n",
    "                            RealParameter('b', 0.1, 0.45),\n",
    "                            RealParameter('q', 2.0, 4.5),\n",
    "                            RealParameter('delta', 0.93, 0.99)]\n",
    "\n",
    "# set levers, one for each time step\n",
    "lake_model.levers = [RealParameter(str(i), 0, 0.1) for i in \n",
    "                     range(lake_model.time_horizon)] # we use time_horizon here\n",
    "\n",
    "#specify outcomes \n",
    "lake_model.outcomes = [ScalarOutcome('max_P'),\n",
    "                       ScalarOutcome('utility'),\n",
    "                       ScalarOutcome('inertia'),\n",
    "                       ScalarOutcome('reliability')]"
   ]
  },
  {
   "cell_type": "code",
   "execution_count": 2,
   "metadata": {},
   "outputs": [
    {
     "name": "stderr",
     "output_type": "stream",
     "text": [
      "[MainProcess/INFO] pool started\n",
      "[MainProcess/INFO] performing 1000 scenarios * 10 policies * 1 model(s) = 10000 experiments\n",
      "[MainProcess/INFO] 1000 cases completed\n",
      "[MainProcess/INFO] 2000 cases completed\n",
      "[MainProcess/INFO] 3000 cases completed\n",
      "[MainProcess/INFO] 4000 cases completed\n",
      "[MainProcess/INFO] 5000 cases completed\n",
      "[MainProcess/INFO] 6000 cases completed\n",
      "[MainProcess/INFO] 7000 cases completed\n",
      "[MainProcess/INFO] 8000 cases completed\n",
      "[MainProcess/INFO] 9000 cases completed\n",
      "[MainProcess/INFO] 10000 cases completed\n",
      "[MainProcess/INFO] experiments finished\n",
      "[MainProcess/INFO] terminating pool\n"
     ]
    }
   ],
   "source": [
    "from ema_workbench import MultiprocessingEvaluator, ema_logging\n",
    "\n",
    "ema_logging.log_to_stderr(ema_logging.INFO)\n",
    "\n",
    "n_policies = 10\n",
    "n_scenarios = 1000\n",
    "\n",
    "with MultiprocessingEvaluator(lake_model) as evaluator:\n",
    "    results = evaluator.perform_experiments(n_scenarios, n_policies)\n"
   ]
  },
  {
   "cell_type": "markdown",
   "metadata": {},
   "source": [
    "2. The experiments array contains the values for each of the 100 decision levers. This might easily mess up the analysis. Remove these columns from the experiment array. *hint: you can use either pandas or numpy.lib.recfunctions for dropping columsn from the experiments recarray*\n",
    "\n"
   ]
  },
  {
   "cell_type": "code",
   "execution_count": 3,
   "metadata": {},
   "outputs": [],
   "source": [
    "import numpy.lib.recfunctions as rf\n",
    "\n",
    "experiments, outcomes = results\n",
    "lever_names = [l.name for l in lake_model.levers]\n",
    "experiments = rf.drop_fields(experiments, drop_names=lever_names+['policy'], \n",
    "                             asrecarray=True)"
   ]
  },
  {
   "cell_type": "markdown",
   "metadata": {},
   "source": [
    "Apply scenario discovery, focussing on the 10 percent of worst outcomes for maximum pollution. \n",
    "\n",
    "* show tradeoff curve\n",
    "* inspect several boxes, using both tables and graphs\n"
   ]
  },
  {
   "cell_type": "code",
   "execution_count": 4,
   "metadata": {},
   "outputs": [
    {
     "name": "stderr",
     "output_type": "stream",
     "text": [
      "[MainProcess/INFO] 10000 points remaining, containing 760 cases of interest\n",
      "[MainProcess/INFO] mean: 0.8490196078431372, mass: 0.051, coverage: 0.5697368421052632, density: 0.8490196078431372 restricted_dimensions: 3\n"
     ]
    }
   ],
   "source": [
    "from ema_workbench.analysis import prim\n",
    "\n",
    "x = experiments\n",
    "y = outcomes['reliability'] <= np.percentile(outcomes['reliability'], 10)\n",
    "\n",
    "prim_alg = prim.Prim(x,y, threshold=0.8)\n",
    "box1 = prim_alg.find_box()\n"
   ]
  },
  {
   "cell_type": "code",
   "execution_count": 5,
   "metadata": {},
   "outputs": [
    {
     "data": {
      "image/png": "[encoded data removed]",
      "text/plain": [
       "<Figure size 432x288 with 2 Axes>"
      ]
     },
     "metadata": {},
     "output_type": "display_data"
    }
   ],
   "source": [
    "box1.show_tradeoff()\n",
    "plt.show()"
   ]
  },
  {
   "cell_type": "code",
   "execution_count": 6,
   "metadata": {},
   "outputs": [
    {
     "name": "stdout",
     "output_type": "stream",
     "text": [
      "coverage    0.569737\n",
      "density      0.84902\n",
      "id                55\n",
      "mass           0.051\n",
      "mean         0.84902\n",
      "res_dim            3\n",
      "Name: 55, dtype: object\n",
      "\n",
      "        box 55                                          \n",
      "           min       max                       qp values\n",
      "q     2.001969  2.600410  [0.0, 2.1224176793882663e-173]\n",
      "b     0.100297  0.196601   [0.0, 1.299860923552747e-158]\n",
      "mean  0.018566  0.049971     [4.08331164533732e-05, 0.0]\n",
      "\n"
     ]
    }
   ],
   "source": [
    "box1.inspect()"
   ]
  },
  {
   "cell_type": "code",
   "execution_count": 7,
   "metadata": {},
   "outputs": [
    {
     "data": {
      "image/png": "[encoded data removed]",
      "text/plain": [
       "<Figure size 432x288 with 1 Axes>"
      ]
     },
     "metadata": {},
     "output_type": "display_data"
    }
   ],
   "source": [
    "box1.inspect(25, style='graph')\n",
    "plt.show()"
   ]
  },
  {
   "cell_type": "markdown",
   "metadata": {},
   "source": [
    "## Visualize the results using Dimensional Stacking\n",
    "Take the classification of outcomes as used in step 3 of scenario discovery, and instead visualize the results using dimensional stacking. How do these results compare to the insights from scenario discovery?\n",
    "\n",
    "We can use dimensional stacking for this. We set nr_levels to 2, because we only need 3 uncertainties to properly show the results. \n"
   ]
  },
  {
   "cell_type": "code",
   "execution_count": 8,
   "metadata": {},
   "outputs": [
    {
     "name": "stderr",
     "output_type": "stream",
     "text": [
      "/Users/jhkwakkel/anaconda/lib/python3.6/importlib/_bootstrap.py:219: ImportWarning: can't resolve package from __spec__ or __package__, falling back on __name__ and __path__\n",
      "  return f(*args, **kwds)\n",
      "/Users/jhkwakkel/anaconda/lib/python3.6/importlib/_bootstrap.py:219: ImportWarning: can't resolve package from __spec__ or __package__, falling back on __name__ and __path__\n",
      "  return f(*args, **kwds)\n"
     ]
    },
    {
     "data": {
      "image/png": "[encoded data removed]",
      "text/plain": [
       "<Figure size 720x720 with 4 Axes>"
      ]
     },
     "metadata": {},
     "output_type": "display_data"
    }
   ],
   "source": [
    "from ema_workbench.analysis import dimensional_stacking\n",
    "\n",
    "dimensional_stacking.create_pivot_plot(x,y, nr_levels=2)\n",
    "plt.show()"
   ]
  },
  {
   "cell_type": "markdown",
   "metadata": {},
   "source": [
    "We see that a low value for q and b primarily drives the results. In line with the prim analysis. There is also some sensitivity to higher values of mean, and occassionaly policy also has some influence. However, the latter was not shown by the PRIM analysis. "
   ]
  },
  {
   "cell_type": "markdown",
   "metadata": {},
   "source": [
    "## Apply sensitivity analysis\n",
    "There is substantial support in the ema_workbench for global sensitivity. For this, the workbench relies on [SALib](https://salib.readthedocs.io/en/latest/) and feature scoring which is a machine learning alternative for global sensitivity analysis. Generate 10 random release policies. Generate 1000 experiments, and analyse the results using extra trees feature scoring for all outcomes of interest. What can you tell about the difference in sensitivity across the different outcomes of interest?\n",
    "\n",
    "*hint: you can use [seaborn heatmaps](https://seaborn.pydata.org/generated/seaborn.heatmap.html) for a nice figure of the results*"
   ]
  },
  {
   "cell_type": "code",
   "execution_count": 17,
   "metadata": {},
   "outputs": [],
   "source": [
    "from ema_workbench.analysis import feature_scoring\n",
    "\n",
    "scores = feature_scoring.get_feature_scores_all(x, outcomes)"
   ]
  },
  {
   "cell_type": "code",
   "execution_count": 18,
   "metadata": {},
   "outputs": [
    {
     "data": {
      "image/png": "[encoded data removed]",
      "text/plain": [
       "<matplotlib.figure.Figure at 0x1a19dad5c0>"
      ]
     },
     "metadata": {},
     "output_type": "display_data"
    }
   ],
   "source": [
    "ax = sns.heatmap(scores, cmap='viridis', annot=True)\n",
    "\n",
    "ax.set_aspect('equal')\n",
    "fig = plt.gcf()\n",
    "fig.set_size_inches(8,8)\n",
    "\n",
    "plt.yticks(rotation=0)\n",
    "\n",
    "plt.show()"
   ]
  },
  {
   "cell_type": "markdown",
   "metadata": {},
   "source": [
    "* max_P is driven primarily by B\n",
    "* utility is driven by delta\n",
    "* inertia is solely driven by policy. This you could have known given the equations of the model.\n",
    "* reliability is driven by b, q, and a little bit by the mean. This is consistent with the scenario discovery results"
   ]
  },
  {
   "cell_type": "code",
   "execution_count": null,
   "metadata": {},
   "outputs": [],
   "source": []
  }
 ],
 "metadata": {
  "kernelspec": {
   "display_name": "Python 3",
   "language": "python",
   "name": "python3"
  },
  "language_info": {
   "codemirror_mode": {
    "name": "ipython",
    "version": 3
   },
   "file_extension": ".py",
   "mimetype": "text/x-python",
   "name": "python",
   "nbconvert_exporter": "python",
   "pygments_lexer": "ipython3",
   "version": "3.6.5"
  }
 },
 "nbformat": 4,
 "nbformat_minor": 2
}
